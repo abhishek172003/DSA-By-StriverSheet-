{
 "cells": [
  {
   "cell_type": "code",
   "execution_count": 1,
   "id": "405f075d-557c-4679-83b6-c8dd98f366d3",
   "metadata": {},
   "outputs": [
    {
     "name": "stdout",
     "output_type": "stream",
     "text": [
      "The element at position (r,c) is: 6\n"
     ]
    }
   ],
   "source": [
    "\n",
    "import math\n",
    "\n",
    "def nCr(n, r):\n",
    "    res = 1\n",
    "\n",
    "    # calculating nCr:\n",
    "    for i in range(r):\n",
    "        res = res * (n - i)\n",
    "        res = res // (i + 1)\n",
    "\n",
    "    return res\n",
    "\n",
    "def pascalTriangle(r, c):\n",
    "    element = nCr(r - 1, c - 1)\n",
    "    return element\n",
    "\n",
    "if __name__ == '__main__':\n",
    "    r = 5 # row number\n",
    "    c = 3 # col number\n",
    "    element = pascalTriangle(r, c)\n",
    "    print(f\"The element at position (r,c) is: {element}\")\n",
    "    \n",
    "        "
   ]
  }
 ],
 "metadata": {
  "kernelspec": {
   "display_name": "Python 3 (ipykernel)",
   "language": "python",
   "name": "python3"
  },
  "language_info": {
   "codemirror_mode": {
    "name": "ipython",
    "version": 3
   },
   "file_extension": ".py",
   "mimetype": "text/x-python",
   "name": "python",
   "nbconvert_exporter": "python",
   "pygments_lexer": "ipython3",
   "version": "3.11.8"
  }
 },
 "nbformat": 4,
 "nbformat_minor": 5
}
