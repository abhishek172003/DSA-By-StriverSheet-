{
 "cells": [
  {
   "cell_type": "code",
   "execution_count": 2,
   "id": "e1f15218-78c3-4173-881e-0cd1ff24cf1b",
   "metadata": {},
   "outputs": [
    {
     "name": "stdout",
     "output_type": "stream",
     "text": [
      "1 5 10 10 5 1 \n"
     ]
    }
   ],
   "source": [
    "\n",
    "def pascalTriangle(n):\n",
    "    ans = 1\n",
    "    print(ans, end=\" \") # printing 1st element\n",
    "\n",
    "    #Printing the rest of the part:\n",
    "    for i in range(1, n):\n",
    "        ans = ans * (n - i)\n",
    "        ans = ans // i\n",
    "        print(ans, end=\" \")\n",
    "    print()\n",
    "\n",
    "if __name__ == \"__main__\":\n",
    "    n = 6\n",
    "    pascalTriangle(n)\n"
   ]
  }
 ],
 "metadata": {
  "kernelspec": {
   "display_name": "Python 3 (ipykernel)",
   "language": "python",
   "name": "python3"
  },
  "language_info": {
   "codemirror_mode": {
    "name": "ipython",
    "version": 3
   },
   "file_extension": ".py",
   "mimetype": "text/x-python",
   "name": "python",
   "nbconvert_exporter": "python",
   "pygments_lexer": "ipython3",
   "version": "3.11.8"
  }
 },
 "nbformat": 4,
 "nbformat_minor": 5
}
