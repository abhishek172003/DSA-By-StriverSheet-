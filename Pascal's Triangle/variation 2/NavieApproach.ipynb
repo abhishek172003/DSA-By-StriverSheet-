{
 "cells": [
  {
   "cell_type": "code",
   "execution_count": 2,
   "id": "c0f9ca49-15cd-4b0f-bcd0-19d17d8bc737",
   "metadata": {},
   "outputs": [
    {
     "name": "stdout",
     "output_type": "stream",
     "text": [
      "1 5 10 10 5 1 \n"
     ]
    }
   ],
   "source": [
    "\n",
    "import math\n",
    "\n",
    "def nCr(n, r):\n",
    "    res = 1\n",
    "    # calculating nCr:\n",
    "    for i in range(r):\n",
    "        res = res * (n - i)\n",
    "        res = res // (i + 1)\n",
    "    return res\n",
    "\n",
    "def pascalTriangle(n):\n",
    "    # printing the entire row n:\n",
    "    for c in range(1, n+1):\n",
    "        print(nCr(n-1, c-1), end=\" \")\n",
    "    print()\n",
    "\n",
    "if __name__ == \"__main__\":\n",
    "    n = 6\n",
    "    pascalTriangle(n)\n",
    "    "
   ]
  }
 ],
 "metadata": {
  "kernelspec": {
   "display_name": "Python 3 (ipykernel)",
   "language": "python",
   "name": "python3"
  },
  "language_info": {
   "codemirror_mode": {
    "name": "ipython",
    "version": 3
   },
   "file_extension": ".py",
   "mimetype": "text/x-python",
   "name": "python",
   "nbconvert_exporter": "python",
   "pygments_lexer": "ipython3",
   "version": "3.11.8"
  }
 },
 "nbformat": 4,
 "nbformat_minor": 5
}
